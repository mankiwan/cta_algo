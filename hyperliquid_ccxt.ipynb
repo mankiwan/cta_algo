{
 "cells": [
  {
   "cell_type": "markdown",
   "metadata": {},
   "source": [
    "Authentification"
   ]
  },
  {
   "cell_type": "code",
   "execution_count": null,
   "metadata": {},
   "outputs": [],
   "source": [
    "# pip install ccxt\n",
    "import ccxt\n",
    "import os\n",
    "from dotenv import load_dotenv\n",
    "\n",
    "load_dotenv()\n",
    "\n",
    "wallet_address = os.getenv('HYPERLIQUID_WALLET_ADDRESS')\n",
    "private_key = os.getenv('HYPERLIQUID_PRIVATE_KEY')\n",
    "\n",
    "dex = ccxt.hyperliquid({\n",
    "    \"walletAddress\": wallet_address,\n",
    "    \"privateKey\": private_key,\n",
    "})"
   ]
  },
  {
   "cell_type": "code",
   "execution_count": null,
   "metadata": {},
   "outputs": [],
   "source": [
    "dex.fetch_balance()"
   ]
  },
  {
   "cell_type": "markdown",
   "metadata": {},
   "source": [
    "Market order"
   ]
  },
  {
   "cell_type": "code",
   "execution_count": null,
   "metadata": {},
   "outputs": [],
   "source": [
    "symbol = \"ETH/USDC:USDC\"\n",
    "order_type = \"market\"\n",
    "side = \"buy\"\n",
    "amount = 0.0023\n",
    "price = dex.load_markets()[symbol][\"info\"][\"midPx\"] # get current price for symbol asset\n",
    "# HL market orders require price to calculate the max slippage price. Default slippage can be set in options(default is 5%).\n",
    "dex.create_order(symbol, order_type, side, amount, price=price)"
   ]
  },
  {
   "cell_type": "code",
   "execution_count": null,
   "metadata": {
    "scrolled": true
   },
   "outputs": [],
   "source": [
    "# Get current price for all assets\n",
    "dex.load_markets() "
   ]
  },
  {
   "cell_type": "code",
   "execution_count": null,
   "metadata": {},
   "outputs": [],
   "source": [
    "symbols = [\"ETH/USDC:USDC\"]\n",
    "# Fetch open positions for specified symbols\n",
    "dex.fetch_positions(symbols)"
   ]
  },
  {
   "cell_type": "markdown",
   "metadata": {},
   "source": [
    "Close position"
   ]
  },
  {
   "cell_type": "code",
   "execution_count": null,
   "metadata": {},
   "outputs": [],
   "source": [
    "symbol = \"ETH/USDC:USDC\"\n",
    "order_type = \"market\"\n",
    "side = \"sell\"\n",
    "amount = dex.fetch_positions([symbol])[0][\"contracts\"] # Check total amount of symbol in positions\n",
    "price = dex.load_markets()[symbol][\"info\"][\"midPx\"]\n",
    "\n",
    "dex.create_order(symbol, order_type, side, amount, price=price, params={\"reduceOnly\":True})\n"
   ]
  },
  {
   "cell_type": "markdown",
   "metadata": {},
   "source": [
    "Limit order"
   ]
  },
  {
   "cell_type": "code",
   "execution_count": null,
   "metadata": {},
   "outputs": [],
   "source": [
    "symbol = \"ETH/USDC:USDC\"\n",
    "order_type = \"limit\"\n",
    "side = \"buy\"\n",
    "amount = 0.01\n",
    "price = 4300\n",
    "\n",
    "order = dex.create_order(symbol, order_type, side, amount, price=price)\n",
    "print(order)"
   ]
  },
  {
   "cell_type": "code",
   "execution_count": null,
   "metadata": {
    "scrolled": true
   },
   "outputs": [],
   "source": [
    "symbol = \"ETH/USDC:USDC\"\n",
    "order_id = order[\"id\"]\n",
    "# Only work for limit order, market order fails\n",
    "dex.cancel_order(order_id, symbol)"
   ]
  },
  {
   "cell_type": "code",
   "execution_count": null,
   "metadata": {},
   "outputs": [],
   "source": [
    "dex.fetch_open_orders(\"ETH/USDC:USDC\")"
   ]
  },
  {
   "cell_type": "markdown",
   "metadata": {},
   "source": [
    "Set leverage and margin mode"
   ]
  },
  {
   "cell_type": "code",
   "execution_count": null,
   "metadata": {},
   "outputs": [],
   "source": [
    "symbol = \"ETH/USDC:USDC\"\n",
    "margin_mode = \"cross\" # cross\n",
    "leverage = 2\n",
    "\n",
    "dex.set_margin_mode(margin_mode, symbol, params={\"leverage\": leverage})\n"
   ]
  },
  {
   "cell_type": "code",
   "execution_count": null,
   "metadata": {},
   "outputs": [],
   "source": [
    "symbol = \"ETH/USDC:USDC\"\n",
    "leverage = 1\n",
    "dex.set_leverage(leverage, symbol)\n",
    "# dex.set_leverage(leverage, symbol, params={\"marginMode\": \"isolated\"})"
   ]
  },
  {
   "cell_type": "markdown",
   "metadata": {},
   "source": [
    "Set TP SL"
   ]
  },
  {
   "cell_type": "code",
   "execution_count": null,
   "metadata": {},
   "outputs": [],
   "source": [
    "# Main order triggers first\n",
    "symbol = \"ETH/USDC:USDC\"\n",
    "order_type = \"market\"\n",
    "side = \"buy\"\n",
    "amount = 0.0023\n",
    "price = dex.load_markets()[symbol][\"info\"][\"midPx\"]\n",
    "\n",
    "dex.create_order(symbol, order_type, side, amount, price=price)"
   ]
  },
  {
   "cell_type": "code",
   "execution_count": null,
   "metadata": {
    "scrolled": true
   },
   "outputs": [],
   "source": [
    "symbol = \"ETH/USDC:USDC\"\n",
    "order_type = \"market\"\n",
    "side = \"sell\"\n",
    "price = dex.load_markets()[symbol][\"info\"][\"midPx\"]\n",
    "\n",
    "amount = dex.fetch_positions([symbol])[0][\"contracts\"]\n",
    "# amount = 0.005\n",
    "tp_price = 4545\n",
    "# Notes: price is required to entry as slippage protection\n",
    "dex.create_order(symbol, order_type, side, amount, price=price, params={\"takeProfitPrice\": tp_price, \"reduceOnly\": True})"
   ]
  },
  {
   "cell_type": "code",
   "execution_count": null,
   "metadata": {},
   "outputs": [],
   "source": [
    "symbol = \"ETH/USDC:USDC\"\n",
    "order_type = \"market\"\n",
    "side = \"sell\"\n",
    "price = dex.load_markets()[symbol][\"info\"][\"midPx\"]\n",
    "\n",
    "amount = dex.fetch_positions([symbol])[0][\"contracts\"]\n",
    "sl_price = 4538\n",
    "# According to the exchange requirement, TP or SL order is created seperately\n",
    "order = dex.create_order(symbol, order_type, side, amount, price=price, params={\"stopLossPrice\": sl_price, \"reduceOnly\": True})"
   ]
  },
  {
   "cell_type": "code",
   "execution_count": null,
   "metadata": {
    "scrolled": true
   },
   "outputs": [],
   "source": [
    "dex.fetch_order(order[\"id\"], symbol)"
   ]
  },
  {
   "cell_type": "markdown",
   "metadata": {},
   "source": [
    "Stop market order"
   ]
  },
  {
   "cell_type": "code",
   "execution_count": null,
   "metadata": {},
   "outputs": [],
   "source": [
    "symbol = \"ETH/USDC:USDC\"\n",
    "order_type = \"market\"\n",
    "side = \"buy\"\n",
    "price = dex.load_markets()[symbol][\"info\"][\"midPx\"]\n",
    "amount = 0.05\n",
    "stop_price = 4200\n",
    "\n",
    "dex.create_order(symbol, order_type, side, amount, price=price, params={\"stopPrice\": stop_price})"
   ]
  }
 ],
 "metadata": {
  "kernelspec": {
   "display_name": "Python 3 (ipykernel)",
   "language": "python",
   "name": "python3"
  },
  "language_info": {
   "codemirror_mode": {
    "name": "ipython",
    "version": 3
   },
   "file_extension": ".py",
   "mimetype": "text/x-python",
   "name": "python",
   "nbconvert_exporter": "python",
   "pygments_lexer": "ipython3",
   "version": "3.11.2"
  }
 },
 "nbformat": 4,
 "nbformat_minor": 4
}
